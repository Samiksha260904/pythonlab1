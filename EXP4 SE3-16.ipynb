{
 "cells": [
  {
   "cell_type": "code",
   "execution_count": 4,
   "id": "97305a2f-4089-4c22-afae-93ee964e0ebc",
   "metadata": {},
   "outputs": [
    {
     "name": "stdout",
     "output_type": "stream",
     "text": [
      "After writing to the file:\n",
      "Hello, this is rema  .\n",
      "\n",
      "\n",
      "After appending to the file:\n",
      "Hello, this is rema  .\n",
      "Now we are appending to rakesh.\n",
      "\n",
      "\n",
      "Final read after appending:\n",
      "Hello, this is rema  .\n",
      "Now we are appending to rakesh.\n",
      "\n"
     ]
    }
   ],
   "source": [
    "from contextlib import contextmanager\n",
    "#Samiksha Prashant Pawar SE3 16\n",
    "@contextmanager\n",
    "def genericFileFunction(filename, method):\n",
    "    file = open(filename, method)\n",
    "    yield file\n",
    "    file.close()\n",
    "\n",
    "if __name__ == '__main__':\n",
    "    filename = \"example.txt\" \n",
    "\n",
    "   \n",
    "    with genericFileFunction(filename, 'w') as file:\n",
    "        file.write(\"Hello, this is rema  .\\n\")\n",
    "    \n",
    "    print(\"After writing to the file:\")\n",
    "    with open(filename, 'r') as file:\n",
    "        print(file.read()) \n",
    "\n",
    "    \n",
    "    with genericFileFunction(filename, 'a') as file:\n",
    "        file.write(\"Now we are appending to rakesh.\\n\")\n",
    "    \n",
    "    print(\"\\nAfter appending to the file:\")\n",
    "    with open(filename, 'r') as file:\n",
    "        print(file.read())  \n",
    "\n",
    "    \n",
    "    print(\"\\nFinal read after appending:\")\n",
    "    with genericFileFunction(filename, 'r') as file:\n",
    "        print(file.read())\n",
    "\n",
    "\n"
   ]
  },
  {
   "cell_type": "code",
   "execution_count": null,
   "id": "6fd66c7e-3257-4e22-979c-5435eab3fee7",
   "metadata": {},
   "outputs": [],
   "source": []
  }
 ],
 "metadata": {
  "kernelspec": {
   "display_name": "Python 3 (ipykernel)",
   "language": "python",
   "name": "python3"
  },
  "language_info": {
   "codemirror_mode": {
    "name": "ipython",
    "version": 3
   },
   "file_extension": ".py",
   "mimetype": "text/x-python",
   "name": "python",
   "nbconvert_exporter": "python",
   "pygments_lexer": "ipython3",
   "version": "3.13.1"
  }
 },
 "nbformat": 4,
 "nbformat_minor": 5
}
