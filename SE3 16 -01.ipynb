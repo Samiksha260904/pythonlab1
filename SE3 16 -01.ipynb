{
 "cells": [
  {
   "cell_type": "code",
   "execution_count": 5,
   "id": "7fcd75ff-0667-4252-bde6-e6a0633409f0",
   "metadata": {},
   "outputs": [
    {
     "name": "stdout",
     "output_type": "stream",
     "text": [
      "This is a string\n",
      "This is a string\n",
      "This is a string\n",
      "[1, 'a', 'string', 3]\n",
      "[1, 'a', 'string', 3, 6]\n",
      "[1, 'a', 'string', 3]\n",
      "a\n",
      "(1, 'a', 'string', 3)\n",
      "a\n",
      "{1: 'Lorem', 2: 'Ipsum', 3: 'Dolerum'}\n",
      "{1: 'squid', 2: 'games ', 3: 'season'}\n",
      "{'a': 'House', 'b': 'of', 'c': 'Cards'}\n",
      "Alice\n",
      "Alice\n",
      "{1: 'Python dict', 2: 'games', 3: 'season', 'age': 22}\n",
      "{2: 'manaswiii', 3: 'astha', 4: 'tejashri', 'age': 20}\n"
     ]
    }
   ],
   "source": [
    " #Assigning string to a variable\n",
    "a = 'This is a string'\n",
    "print(a)\n",
    "b = \"This is a string\"\n",
    "print(b)\n",
    "c = '''This is a string'''\n",
    "print(c)\n",
    "# Declaring a list\n",
    "L = [1, \"a\", \"string\", 1+2]\n",
    "print(L)\n",
    "L.append(6)\n",
    "print(L)\n",
    "L.pop()\n",
    "print(L)\n",
    "print(L[1])\n",
    "# Tuples in Python\n",
    "tup = (1, \"a\", \"string\", 1+2)\n",
    "print(tup)\n",
    "print(tup[1])\n",
    "# Dictionaries in Python\n",
    "d = {1: 'Lorem', 2: 'Ipsum', 3: 'Dolerum'}\n",
    "print(d)\n",
    "d1 = {1: 'squid', 2: 'games ', 3: 'season'}\n",
    "print(d1)\n",
    "d2 = dict(a=\"House\", b=\"of\", c=\"Cards\")\n",
    "print(d2)\n",
    "d = {\"name\": \"Alice\", 1: \"Python\", (1, 2): [1, 2, 4]}\n",
    "print(d[\"name\"])\n",
    "print(d.get(\"name\"))\n",
    "d = {1: 'squid ', 2: 'games', 3: 'season'}\n",
    "d[\"age\"] = 22\n",
    "d[1] = \"Python dict\"\n",
    "print(d)\n",
    "d ={ 1:'samiksha', 2:'manaswiii',3:'astha',4:'divya'}\n",
    "d[\"age\"] = 20\n",
    "d[4] = \"tejashri\"\n",
    "del d [1]\n",
    "print(d)\n"
   ]
  },
  {
   "cell_type": "code",
   "execution_count": null,
   "id": "40f8aba2-772d-40de-b65b-5b8fb81e6833",
   "metadata": {},
   "outputs": [],
   "source": []
  },
  {
   "cell_type": "code",
   "execution_count": null,
   "id": "8ccd58c1-4c07-44ec-bd74-b917b1482da7",
   "metadata": {},
   "outputs": [],
   "source": []
  }
 ],
 "metadata": {
  "kernelspec": {
   "display_name": "Python 3 (ipykernel)",
   "language": "python",
   "name": "python3"
  },
  "language_info": {
   "codemirror_mode": {
    "name": "ipython",
    "version": 3
   },
   "file_extension": ".py",
   "mimetype": "text/x-python",
   "name": "python",
   "nbconvert_exporter": "python",
   "pygments_lexer": "ipython3",
   "version": "3.13.1"
  }
 },
 "nbformat": 4,
 "nbformat_minor": 5
}
