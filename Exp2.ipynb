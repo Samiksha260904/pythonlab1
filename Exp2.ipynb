{
 "cells": [
  {
   "cell_type": "code",
   "execution_count": 8,
   "id": "9ce4696b-c9b3-4324-a571-64f52f37a19f",
   "metadata": {},
   "outputs": [
    {
     "name": "stdout",
     "output_type": "stream",
     "text": [
      "For the string 'aaabbb', the answer is: True\n",
      "For the string 'abab', the answer is: False\n",
      "For the string 'bbb', the answer is: True\n"
     ]
    }
   ],
   "source": [
    "\n",
    "def checkOrder(s: str) -> bool:\n",
    "    seen_b = False  \n",
    "    \n",
    "    for char in s:\n",
    "        if char == 'b':\n",
    "            seen_b = True  \n",
    "        elif char == 'a' and seen_b:\n",
    "            return False \n",
    "    \n",
    "    return True \n",
    "\n",
    "\n",
    "test_cases = [\"aaabbb\", \"abab\", \"bbb\"]\n",
    "\n",
    "for s in test_cases:\n",
    "    result = checkOrder(s)\n",
    "    if result:\n",
    "        print(f\"For the string '{s}', the answer is: True\")\n",
    "    else:\n",
    "        print(f\"For the string '{s}', the answer is: False\")\n"
   ]
  },
  {
   "cell_type": "code",
   "execution_count": null,
   "id": "484e6f7a-09b0-4a8f-93d1-14276b15403c",
   "metadata": {},
   "outputs": [],
   "source": []
  },
  {
   "cell_type": "code",
   "execution_count": null,
   "id": "fce5a588-320c-4358-bf5a-44a0891bdb89",
   "metadata": {},
   "outputs": [],
   "source": []
  },
  {
   "cell_type": "code",
   "execution_count": null,
   "id": "1cc428c4-e53d-49c3-b6ee-c6ce828ffeee",
   "metadata": {},
   "outputs": [],
   "source": []
  }
 ],
 "metadata": {
  "kernelspec": {
   "display_name": "Python 3 (ipykernel)",
   "language": "python",
   "name": "python3"
  },
  "language_info": {
   "codemirror_mode": {
    "name": "ipython",
    "version": 3
   },
   "file_extension": ".py",
   "mimetype": "text/x-python",
   "name": "python",
   "nbconvert_exporter": "python",
   "pygments_lexer": "ipython3",
   "version": "3.13.1"
  }
 },
 "nbformat": 4,
 "nbformat_minor": 5
}
